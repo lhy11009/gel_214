{
 "cells": [
  {
   "cell_type": "markdown",
   "metadata": {},
   "source": [
    "<a href=\"http://landlab.github.io\"><img style=\"float: left\" src=\"../../../landlab_header.png\"></a>"
   ]
  },
  {
   "cell_type": "markdown",
   "metadata": {},
   "source": [
    "# Modeling Hillslopes and Channels with Landlab\n",
    "The original version of this exercise was donated by Andy Wickert at the University of Minnesota. This notebook was created by Nicole Gasparini at Tulane University."
   ]
  },
  {
   "cell_type": "markdown",
   "metadata": {},
   "source": [
    "<hr>\n",
    "<small>For tutorials on learning Landlab, click here: <a href=\"https://github.com/landlab/landlab/wiki/Tutorials\">https://github.com/landlab/landlab/wiki/Tutorials</a></small>\n",
    "<hr>"
   ]
  },
  {
   "cell_type": "markdown",
   "metadata": {},
   "source": [
    "**What is this notebook?**\n",
    "\n",
    "This notebook illustrates a landscape evolution model in which the landscape evolves according to the equation:\n",
    "\n",
    "\\begin{equation}\n",
    " \\frac{\\partial z}{\\partial t} = -K_\\text{sp} A^{m_{sp}} S^{n_{sp}} + K_\\text{hs} \\frac{\\partial^2 z}{\\partial x^2} + U\n",
    "\\end{equation}\n",
    "Here, $K$ are coefficients on the fluvial ($sp$) and hillslope ($hs$) parts of the equation, and $m_{sp}$ and $n_{sp}$ are positive exponents, usually thought to have a ratio, $m_{sp}/n_{sp} \\approx 0.5$. $A$ is drainage area and $S$ is the slope of steepest descent ($-\\frac{dz}{dx}$) where $x$ is horizontal distance (positive in the downslope direction) and $z$ is elevation. (If slope is negative there is no fluvial erosion.) $U$ is an externally-applied uplift field.\n",
    "\n",
    "The first term on the right hand side of the equation is the fluvial erosion term, which is also known as the stream power equation. The second term on the right hand side of the equation is elevation changes via linear diffusion, and linear diffusion is one way in which to describe hillslope sediment transport.\n",
    "\n",
    "For more information on the fluvial erosion term, please see:\n",
    "\n",
    "- Whipple, K.X. and Tucker, G.E., 1999. Dynamics of the stream‐power river incision model: Implications for height limits of mountain ranges, landscape response timescales, and research needs. Journal of Geophysical Research: Solid Earth.\n",
    "\n",
    "For more information on linear diffusion applied to hillslopes (and other fun hillslope models) see:\n",
    "\n",
    "- Roering, J.J., 2008. How well can hillslope evolution models “explain” topography? Simulating soil transport and production with high-resolution topographic data. Geological Society of America Bulletin.\n",
    "\n",
    "The ideas behind what this notebook does are presented nicely in the two papers below. Neither of them is exactly the same as this notebook, but they discuss drainage density and transitions from hillslope to fluviall processes.\n",
    "\n",
    "- Tucker, G.E. and Bras, R.L., 1998. Hillslope processes, drainage density, and landscape morphology. Water Resources Research.\n",
    "\n",
    "- Perron, J.T., Kirchner, J.W. and Dietrich, W.E., 2009. Formation of evenly spaced ridges and valleys. Nature.\n",
    "\n",
    "**What will you do?**\n",
    "\n",
    "In this exercise you will modify the code to get a better understanding of how different processes and forces control landscape evolution, landscape form and drainage density (as interpreted from slope-area data). It is expected that you have already learned the basics about fluvial bedrock incision (and the stream power equation) and sediment transport through creep on hillslopes (and the diffusion equation). (See references above.)\n",
    "\n",
    "Start by sequentially running each code block without changing anything. To run an individual code cell, put the cursor in the cell and type shift-enter, or got to the _Cell_ pulldown menu at the top and choose _Run Cells_. At the end of the notebook you will see the questions that you need to answer by changing parts of the code and rerunning it. \n",
    "\n",
    "Remember that you can always go to the _Kernel_ pulldown menu at the top and choose _Restart & Clear Output_ or _Restart & Run All_ if you change things and want to start afresh. If you just change one code block and rerun only that code block, only the parts of the code in that code block will be updated. (E.g. if you change parameters but don't reset the code blocks that initialize run time or topography, then these values will not be reset.)  \n",
    "\n",
    "**Questions to answer before starting this assignment.**\n",
    "\n",
    "1. If hillslope diffusivity ($K_{hs}$) is fixed, but fluvial erodibility ($K_{sp}$) increases, what do you think will happen to the total relief and drainage density of a landscape?\n",
    "2. If fluvial erodibility ($K_{sp}$) is fixed but hillslope diffusivity ($K_{hs}$) increases, what do you think will happen to the total relief and drainage density of a landscape?\n",
    "3. If parameters stay fixed ($K_{hs}$ and $K_{sp}$), but the uplift rate increases, what do you think will happen to the total relief and drainage density of a landscape?"
   ]
  },
  {
   "cell_type": "markdown",
   "metadata": {},
   "source": [
    "**Now on to the code...**\n",
    "\n",
    "First we have to import the parts of Python and Landlab that are needed to run this code. You should not have to change this first code block."
   ]
  },
  {
   "cell_type": "code",
   "execution_count": null,
   "metadata": {},
   "outputs": [],
   "source": [
    "# below is to make plots show up in the notebook\n",
    "%matplotlib inline"
   ]
  },
  {
   "cell_type": "code",
   "execution_count": null,
   "metadata": {},
   "outputs": [],
   "source": [
    "# Code Block 1\n",
    "\n",
    "import numpy as np\n",
    "from numpy import linalg as LA\n",
    "import sys\n",
    "import time\n",
    "from matplotlib import pyplot as plt\n",
    "\n",
    "from landlab import HexModelGrid, RasterModelGrid, imshow_grid\n",
    "from landlab.components import (\n",
    "    DepressionFinderAndRouter,\n",
    "    FlowAccumulator,\n",
    "    LinearDiffuser,\n",
    "    StreamPowerEroder,\n",
    ")"
   ]
  },
  {
   "cell_type": "markdown",
   "metadata": {},
   "source": [
    "Now we set parameters\n",
    "\n",
    "**This part you will need to change for the different exercises.** \n",
    "\n",
    "Note that Landlab does not impose units, but it assumes that all units are consistent. We will assume that everything is given in _meters_ (m) and _years_ (yr)."
   ]
  },
  {
   "cell_type": "raw",
   "metadata": {},
   "source": [
    "# Code Block 2\n",
    "\n",
    "uplift_rate = 0.001  # [m/yr], initially set at 0.001\n",
    "K_sp = 1.5e-5  # units vary depending on m_sp and n_sp, initially set at 1e-5\n",
    "m_sp = 0.5  # exponent on drainage area in stream power equation, initially 0.5\n",
    "n_sp = 1.0  # exponent on slope in stream power equation, initially 1.\n",
    "K_hs = 0.1  # [m^2/yr], initially 0.05"
   ]
  },
  {
   "cell_type": "markdown",
   "metadata": {},
   "source": [
    "**Make a grid.**\n",
    "\n",
    "This part you may want to change."
   ]
  },
  {
   "cell_type": "raw",
   "metadata": {},
   "source": [
    "# Code Block 3\n",
    "\n",
    "ncells_side = 150  # number of raster cells on each side, initially 150\n",
    "dxy = 50  # side length of a raster model cell, or resolution [m], initially 50\n",
    "\n",
    "# Below is a raster (square cells) grid, with equal width and height\n",
    "mg = RasterModelGrid((ncells_side, ncells_side), dxy)\n",
    "\n",
    "# Below is a Hexagonal grid (hexagonal cells,\n",
    "# with equal width and height (a square)\n",
    "# mg = HexModelGrid(ncells_side, ncells_side, dxy, shape='rect')\n",
    "\n",
    "# Below is a hexagonal grid (hexagonal cells),\n",
    "# in which the grid is also a hexagon\n",
    "# mg = HexModelGrid(ncells_side, ncells_side/2, dxy, shape='hex')"
   ]
  },
  {
   "cell_type": "markdown",
   "metadata": {},
   "source": [
    "Set some variables related to time. "
   ]
  },
  {
   "cell_type": "raw",
   "metadata": {},
   "source": [
    "# Code Block 4\n",
    "\n",
    "dt = 1000  # time step [yr], initially 5000\n",
    "total_time = 0  # amount of time the landscape has evolved [yr]\n",
    "tmax = 1e6  # time for the model loop to run [yr], initially 1e6\n",
    "\n",
    "t = np.arange(0, tmax, dt)  # each of the time steps that the code will run"
   ]
  },
  {
   "cell_type": "markdown",
   "metadata": {},
   "source": [
    "Here we make the initial grid of elevation. "
   ]
  },
  {
   "cell_type": "raw",
   "metadata": {},
   "source": [
    "# Code Block 5\n",
    "\n",
    "np.random.seed(0)  # seed set to zero so our figures are reproducible\n",
    "mg_noise = np.random.rand(mg.number_of_nodes) / 1000.0  # intial noise on elevation grid\n",
    "\n",
    "# set up the elevation on the grid\n",
    "zr = mg.add_zeros(\"topographic__elevation\", at=\"node\")\n",
    "zr += mg_noise"
   ]
  },
  {
   "cell_type": "markdown",
   "metadata": {},
   "source": [
    "Intializing all of the process components that do the work."
   ]
  },
  {
   "cell_type": "raw",
   "metadata": {},
   "source": [
    "# Code Block 6\n",
    "\n",
    "frr = FlowAccumulator(mg)  # intializing flow routing\n",
    "spr = StreamPowerEroder(\n",
    "    mg, K_sp=K_sp, m_sp=m_sp, n_sp=n_sp, threshold_sp=0.0\n",
    ")  # initializing stream power incision\n",
    "dfn = LinearDiffuser(\n",
    "    mg, linear_diffusivity=K_hs, deposit=False\n",
    ")  # initializing linear diffusion\n",
    "# df = DepressionFinderAndRouter(mg) # Initializing the pit finder"
   ]
  },
  {
   "cell_type": "markdown",
   "metadata": {},
   "source": [
    "Now for the code loop. Note that you can rerun this code block many times, and as long as you don't rerun any of the code boxes above, it will take the already evolved landscape and evolve it even more."
   ]
  },
  {
   "cell_type": "raw",
   "metadata": {},
   "source": [
    "# Code Block 7\n",
    "\n",
    "for ti in t:\n",
    "    zr[mg.core_nodes] += uplift_rate * dt  # uplift the landscape\n",
    "    dfn.run_one_step(dt)  # diffuse the landscape\n",
    "    frr.run_one_step()  # route flow\n",
    "    # df.map_depressions()\n",
    "    spr.run_one_step(dt)  # fluvial incision\n",
    "    total_time += dt  # update time keeper\n",
    "    # print(total_time)\n",
    "    sys.stdout.write(\"\\r{0}\".format(total_time))\n",
    "    sys.stdout.flush()\n",
    "    time.sleep(0.5)"
   ]
  },
  {
   "cell_type": "markdown",
   "metadata": {},
   "source": [
    "Plot the topography."
   ]
  },
  {
   "cell_type": "raw",
   "metadata": {},
   "source": [
    "# Code Block 8\n",
    "%matplotlib inline\n",
    "plt.figure(1)\n",
    "imshow_grid(\n",
    "    mg, \"topographic__elevation\", grid_units=(\"m\", \"m\"), var_name=\"Elevation (m)\"\n",
    ")\n",
    "title_text = f\"$K_{{sp}}$={K_sp}; $K_{{hs}}$={K_hs}; $time$={total_time}; $dx$={dxy}\"\n",
    "\n",
    "plt.title(title_text)\n",
    "\n",
    "max_elev = np.max(zr)\n",
    "suptitle_text = \"Maximum elevation is \" + str(max_elev)\n",
    "plt.suptitle(suptitle_text)\n",
    "\n",
    "print(\"Maximum elevation is \", np.max(zr))"
   ]
  },
  {
   "cell_type": "markdown",
   "metadata": {},
   "source": [
    "Plot the slope and area data at each point (in log-log space)."
   ]
  },
  {
   "cell_type": "raw",
   "metadata": {},
   "source": [
    "# Code Block 9\n",
    "\n",
    "plt.figure(2)\n",
    "indices = np.where(mg.status_at_node[mg.at_node[\"flow__receiver_node\"]] == 0)\n",
    "plt.loglog(\n",
    "    mg.at_node[\"drainage_area\"][indices],\n",
    "    mg.at_node[\"topographic__steepest_slope\"][indices],\n",
    "    \"b.\",\n",
    ")\n",
    "\n",
    "plt.ylabel(\"Topographic slope\")\n",
    "plt.xlabel(\"Drainage area (m^2)\")\n",
    "plt.title(title_text)"
   ]
  },
  {
   "cell_type": "markdown",
   "metadata": {},
   "source": [
    "Has the landscape reached steady state yet? \n",
    "\n",
    "\n",
    "Answer: Not quite. At perfect steady state, there will be no scatter in the fluvial part of the slope-area relationship (given this model set-up).\n",
    "\n",
    "**What to do.**\n",
    "\n",
    "Answer the following questions using the code above. All solutions should be typed, and supporting figures (produced using the code) should be embedded in your final document. (Download or screenshoot the figures.) You may want to make other plots with the data you collect using this model. You are free to make those plots using whatever software you choose.\n",
    "\n",
    "In parts of this exercise you need to work with your classmates. You are encouraged to discuss how to use the model and model results with your classmates, however the write-up that you hand in must be your own work.\n",
    "\n",
    "1. **Hillslope vs. Fluvial Processes.** Using the parameters provided in the initial notebook, run the landscape to steady state, or the point at which the topography and the slope-area relationship stop changing (i.e. erosion equals rock uplift). (You can keep rerunning Code Block 7 until steady state is reached. Steady state is reached asymptotically, so exact steady state is less important than very close.) Use the plots of slope and area to estimate where the hillslope–fluvial transition is (or in otherwords, the threshold drainage area for channel heads. There is usually a range of values. You should be consistent in your method to determine drainage density and describe how you determined it in your write-up). Also record the maximum elevation. Now try keeping $K_{sp}$ the same but increase and decrease $K_{hs}$ (change and run Code Block 2, then rerun Code Blocks 6 and 7). How do the maximum elevation and the transition from hillslope to channel change with changes in $K_{hs}$? Now try keeping $K_{hs}$ the same but increase and decrease $K_{sp}$ (change and run Code Block 2, then rerun Code Blocks 6 and 7). How do the maximum elevation and transition from hillslope to channel change with changes in $K_{sp}$? You can work in teams with your classmates so that you can explore more parameter combinations. Produce a relationship between the different values of $K_{sp}$, $K_{hs}$ and the threshold drainage area and maximum elevation. Remember to run all of your experiments with different parameter values to steady state before estimating the threshold drainage area and maximum elevation. Describe how the different parameters affect drainage density in words, and how this is seen in the relationship that you generate. You do not have to include plots of every single run, but include plots to illustrate at least three landscapes with different drainage densities.\n",
    "\n",
    "2. **Uplift and erosion.** Now, perform a similar set of exercises as you did in exercise 1, but also systematically vary uplift rate (Code Block 2). Work in teams, and each person should choose two combinations of $K_{sp}$ and $K_{hs}$ and three uplift rates (for a total of 6 runs). Make sure the parameter values that you choose do not overlap with your group members. Make sure you document the transition from hillslope to fluvial process (make sure all of the team members are using the same method to determine threshold area for drainage density), and also note the maximum steady-state elevation for each combination of uplift, $K_{sp}$ and $K_{hs}$. Produce relationships to show how the area threshold and maximum elevation change with the different variables. Describe how uplift rate affects drainage density in words, and how this is seen in the relationship that you generate. You do not have to include plots of every single run, but include some plots to illustrate the changes that you describe. (Note whom your group members were in your write-up.)\n",
    "\n",
    "3. **Free-form exploration. (Optional)** Try changing the grid type (Code Block 3), grid size (Code Block 3), stream power exponents (Code Block 2), distribution of uplift rate (e.g., what happens if you have just part of the landscape experience uplift, a bit trickier, as uplift in Code Block 2 will need to be changed to an array), etc. Based on what you observe, create a consistent geomorphic history of the system. Creativity is expected here!\n",
    "\n",
    "4. **Final reflection.** Was your initial insight into how parameters would affect the landscape correct? Discuss in less than 5 sentences."
   ]
  },
  {
   "cell_type": "code",
   "execution_count": null,
   "metadata": {},
   "outputs": [],
   "source": [
    "# define a class from the previous runs\n",
    "\n",
    "# Code Block 2\n",
    "class RUN_WRAPPER():\n",
    "    \n",
    "    def __init__(self, **kwargs):\n",
    "        self.uplift_rate = 0.001  # [m/yr], initially set at 0.001\n",
    "        self.K_sp = kwargs.get('K_sp', 1.5e-5)  # units vary depending on m_sp and n_sp, initially set at 1e-5\n",
    "        self.m_sp = 0.5  # exponent on drainage area in stream power equation, initially 0.5\n",
    "        self.n_sp = 1.0  # exponent on slope in stream power equation, initially 1.\n",
    "        self.K_hs = kwargs.get('K_hs', 0.1)  # [m^2/yr], initially 0.05\n",
    "    \n",
    "    def SetupMesh(self):\n",
    "        ncells_side = 150  # number of raster cells on each side, initially 150\n",
    "        self.dxy = 50  # side length of a raster model cell, or resolution [m], initially 50\n",
    "\n",
    "        # Below is a raster (square cells) grid, with equal width and height\n",
    "        self.mg = RasterModelGrid((ncells_side, ncells_side), self.dxy)\n",
    "    \n",
    "    def SetupTime(self, **kwargs):\n",
    "        self.dt = 1000  # time step [yr], initially 5000\n",
    "        self.total_time = 0  # amount of time the landscape has evolved [yr]\n",
    "        self.tmax = kwargs.get('tmax', 1e6)  # time for the model loop to run [yr], initially 1e6\n",
    "        self.nstep = kwargs.get('nstep', 1)\n",
    "        \n",
    "    def SetupElevation(self):\n",
    "        np.random.seed(0)  # seed set to zero so our figures are reproducible\n",
    "        mg_noise = np.random.rand(self.mg.number_of_nodes) / 1000.0  # intial noise on elevation grid\n",
    "        \n",
    "        # set up the elevation on the grid\n",
    "        self.zr = self.mg.add_zeros(\"topographic__elevation\", at=\"node\")\n",
    "        self.zr += mg_noise\n",
    "    \n",
    "    def Initialize(self):\n",
    "        # block 6\n",
    "        self.frr = FlowAccumulator(self.mg)  # intializing flow routing\n",
    "        self.spr = StreamPowerEroder(\n",
    "                                     self.mg, K_sp=self.K_sp, m_sp=self.m_sp, n_sp=self.n_sp, threshold_sp=0.0\n",
    "                                    )  # initializing stream power incision\n",
    "        self.dfn = LinearDiffuser(self.mg, linear_diffusivity=self.K_hs, deposit=False)  # initializing linear diffusion\n",
    "\n",
    "    def Run(self):\n",
    "        # Code Block 7\n",
    "        for n in range(self.nstep):\n",
    "            self.zr[mg.core_nodes] += self.uplift_rate * self.dt  # uplift the landscape\n",
    "            self.dfn.run_one_step(self.dt)  # diffuse the landscape\n",
    "            self.frr.run_one_step()  # route flow\n",
    "            # df.map_depressions()\n",
    "            self.spr.run_one_step(self.dt)  # fluvial incision\n",
    "            self.total_time += self.dt  # update time keeper\n",
    "            # print(total_time)\n",
    "            sys.stdout.write(\"\\r{0}\".format(self.total_time))\n",
    "            sys.stdout.flush()\n",
    "            time.sleep(10)\n",
    "    \n",
    "    def RunSteps(self, **kwargs):\n",
    "        # run by step\n",
    "        nstep = kwargs.get('nstep', 1)\n",
    "        for n in range(nstep):\n",
    "            self.zr[self.mg.core_nodes] += self.uplift_rate * self.dt  # uplift the landscape\n",
    "            self.dfn.run_one_step(self.dt)  # diffuse the landscape\n",
    "            self.frr.run_one_step()  # route flow\n",
    "            # df.map_depressions()\n",
    "            self.spr.run_one_step(self.dt)  # fluvial incision\n",
    "            self.total_time += self.dt  # update time keeper\n",
    "            # print(total_time)\n",
    "            sys.stdout.write(\"\\r{0}\".format(self.total_time))\n",
    "            sys.stdout.flush()\n",
    "    \n",
    "    def RunToConverge(self, **kwargs):\n",
    "        # run to converge with a tolerance given\n",
    "        tolerance = kwargs.get('tolerance', 1e-2)\n",
    "        nstep = kwargs.get('nstep', 10)  # step interval\n",
    "        limit_on_total_area = kwargs.get('limit_on_total_area', 1.0)\n",
    "        # message\n",
    "        sys.stdout.write(\"RunToConverge\\n K_sp = %.4e, K_hs = %.4e, tolerance = %.4e, nstep = %.4e\\n\" % \\\n",
    "                         (self.K_sp, self.K_hs, tolerance, nstep))\n",
    "        sys.stdout.flush()\n",
    "        # setup norm of area for check every nstep, as we use a 'prev' to keep track\n",
    "        # the values of a previous step, here we need the value of the first step\n",
    "        area, slope = self.GetSlopeArea()\n",
    "        total_area = LA.norm(area, 1)\n",
    "        max_topography = np.max(self.zr)\n",
    "        while True:\n",
    "            self.RunSteps(nstep=nstep)\n",
    "            # compute change of area\n",
    "            area, slope = self.GetSlopeArea()\n",
    "            total_area_prev = total_area\n",
    "            total_area = LA.norm(area, 1)\n",
    "            total_area_diff = abs(total_area - total_area_prev)/abs(total_area)\n",
    "            sys.stdout.write(\"\\n total_area_diff = %.4e, \" % total_area_diff)\n",
    "            # compute change of maximum topography\n",
    "            max_topography_prev = max_topography\n",
    "            max_topography = np.max(self.zr)\n",
    "            max_topography_diff = abs(max_topography - max_topography_prev) / abs(max_topography)\n",
    "            sys.stdout.write(\", max_topography_diff = %.4e \\n\" % max_topography_diff)\n",
    "            sys.stdout.flush()\n",
    "            is_area_converge = total_area_diff < tolerance and \\\n",
    "                               abs(total_area) > limit_on_total_area and \\\n",
    "                               max_topography_diff < tolerance\n",
    "            if is_area_converge:\n",
    "                break;  \n",
    "        return\n",
    "   \n",
    "    def GetSlopeArea(self):\n",
    "        indices = np.where(self.mg.status_at_node[self.mg.at_node[\"flow__receiver_node\"]] == 0)\n",
    "        area = self.mg.at_node[\"drainage_area\"][indices]\n",
    "        slope = self.mg.at_node[\"topographic__steepest_slope\"][indices]\n",
    "        return area, slope\n",
    "\n",
    "\n",
    "    def Plot1(self):\n",
    "        # Code Block 8\n",
    "        %matplotlib inline\n",
    "        plt.figure()\n",
    "        imshow_grid(\n",
    "            self.mg, \"topographic__elevation\", grid_units=(\"m\", \"m\"), var_name=\"Elevation (m)\"\n",
    "        )\n",
    "        title_text = f\"$K_{{sp}}$={self.K_sp}; $K_{{hs}}$={self.K_hs}; $time$={self.total_time}; $dx$={self.dxy}\"\n",
    "        plt.title(title_text)\n",
    "        # plot subtitle\n",
    "        max_elev = np.max(self.zr)\n",
    "        suptitle_text = \"Maximum elevation is \" + str(max_elev)\n",
    "        plt.suptitle(suptitle_text)\n",
    "        plt.savefig(\"Ksp%.4e_Khs%.4e_time%.4e_dx%.4e_topography.png\" % (self.K_sp, self.K_hs, self.total_time, self.dxy))\n",
    "        print(\"Maximum elevation is \", np.max(self.zr))\n",
    "    \n",
    "    def Plot2(self):\n",
    "        # Code Block 9\n",
    "        area, slope = self.GetSlopeArea()\n",
    "        plt.figure()\n",
    "        plt.loglog(area, slope, \"b.\")\n",
    "        plt.ylabel(\"Topographic slope\")\n",
    "        plt.xlabel(\"Drainage area (m^2)\")\n",
    "        title_text = f\"$K_{{sp}}$={self.K_sp}; $K_{{hs}}$={self.K_hs}; $time$={self.total_time}; $dx$={self.dxy}\"\n",
    "        plt.title(title_text)\n",
    "        plt.savefig(\"Ksp%.4e_Khs%.4e_time%.4e_dx%.4e_area_slope.png\" % (self.K_sp, self.K_hs, self.total_time, self.dxy))\n",
    "    \n",
    "    def SaveData(self):\n",
    "        area, slope = self.GetSlopeArea()\n",
    "        filename = \"Ksp%.4e_Khs%.4e_time%.4e_dx%.4e_area.dat\" % (self.K_sp, self.K_hs, self.total_time, self.dxy)\n",
    "        with open(filename) as f:\n",
    "            np.save(f, area)\n",
    "        filename = \"Ksp%.4e_Khs%.4e_time%.4e_dx%.4e_slope.dat\" % (self.K_sp, self.K_hs, self.total_time, self.dxy)\n",
    "        with open(filename) as f:\n",
    "            np.save(f, slope)"
   ]
  },
  {
   "cell_type": "raw",
   "metadata": {},
   "source": [
    "# test1, dt=1000, tmax=1000\n",
    "RunWrapper = RUN_WRAPPER()\n",
    "RunWrapper.SetupMesh()\n",
    "RunWrapper.SetupTime(tmax=1000)\n",
    "RunWrapper.SetupElevation()\n",
    "RunWrapper.Initialize()\n",
    "RunWrapper.Run()\n",
    "\n",
    "drainage_area, topographic_steepest_slope = RunWrapper.GetSlopeArea()\n",
    "assert(abs(topographic_steepest_slope[0] - 0.00080194) < 1e-7)  # two values in slope\n",
    "assert(abs(topographic_steepest_slope[1] - 0.00079055) < 1e-7)\n",
    "assert(abs(np.max(RunWrapper.zr))-1.00097402511 < 1e-10)  # maximum topography"
   ]
  },
  {
   "cell_type": "raw",
   "metadata": {},
   "source": [
    "# test2, dt=1000, tn=1, use RunSteps instead of Run\n",
    "RunWrapper = RUN_WRAPPER()\n",
    "RunWrapper.SetupMesh()\n",
    "RunWrapper.SetupTime()\n",
    "RunWrapper.SetupElevation()\n",
    "RunWrapper.Initialize()\n",
    "RunWrapper.RunSteps()\n",
    "\n",
    "drainage_area, topographic_steepest_slope = RunWrapper.GetSlopeArea()\n",
    "assert(abs(topographic_steepest_slope[0] - 0.00080194) < 1e-7)  # two values in slope\n",
    "assert(abs(topographic_steepest_slope[1] - 0.00079055) < 1e-7)\n",
    "assert(abs(np.max(RunWrapper.zr))-1.00097402511 < 1e-10)  # maximum topography"
   ]
  },
  {
   "cell_type": "code",
   "execution_count": null,
   "metadata": {},
   "outputs": [],
   "source": [
    "# test3, run until converging, tolerance is 1.0 (run 1 step)\n",
    "K_sp_array = [0.375e-5, 0.75e-5, 1.5e-5, 3e-5, 6e-5]\n",
    "K_hs_array = [0.025, 0.05, 0.1, 0.2, 0.4]\n",
    "for K_sp in K_sp_array:\n",
    "    for K_hs in K_hs_array:\n",
    "        RunWrapper = RUN_WRAPPER(K_sp=K_sp, K_hs=K_hs)\n",
    "        RunWrapper.SetupMesh()\n",
    "        RunWrapper.SetupTime()\n",
    "        RunWrapper.SetupElevation()\n",
    "        RunWrapper.Initialize()\n",
    "        RunWrapper.RunToConverge(tolerance=5e-5, nstep=10)\n",
    "        # plot\n",
    "        drainage_area, topographic_steepest_slope = RunWrapper.GetSlopeArea()\n",
    "        RunWrapper.Plot1()\n",
    "        RunWrapper.Plot2()"
   ]
  },
  {
   "cell_type": "code",
   "execution_count": null,
   "metadata": {},
   "outputs": [],
   "source": []
  }
 ],
 "metadata": {
  "anaconda-cloud": {},
  "kernelspec": {
   "display_name": "Python (gel214_test)",
   "language": "python",
   "name": "gel214_test"
  },
  "language_info": {
   "codemirror_mode": {
    "name": "ipython",
    "version": 3
   },
   "file_extension": ".py",
   "mimetype": "text/x-python",
   "name": "python",
   "nbconvert_exporter": "python",
   "pygments_lexer": "ipython3",
   "version": "3.8.6"
  }
 },
 "nbformat": 4,
 "nbformat_minor": 4
}
