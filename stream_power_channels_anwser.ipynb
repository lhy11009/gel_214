{
 "cells": [
  {
   "cell_type": "markdown",
   "metadata": {},
   "source": [
    "1. **Steady state with low uplift rate. ** Using the parameters provided in the initial notebook, run the landscape to steady state. (Note that you can keep running the main evolution loop - Code Block 7 - and the different plotting blocks without running the code blocks above them. You may also want to change $tmax$ in Code Block 4.) How did you know that the landscape reached steady state? Note the approximate time that it took to reach steady state for your own reference. (This will be usefull for later questions.) Include appropriate plots. (If you want to analyze these landscapes outside of Landlab or save for later, make sure you save the elevation data to a text file (Code Block 13).)"
   ]
  },
  {
   "cell_type": "markdown",
   "metadata": {},
   "source": [
    "### Answer to question 1\n",
    "\n",
    "I run the model to 4 Ma with a converging criteria on maximum topography(i.e. relative different < 1e-2 in 1e5 yrs).\n",
    "\n",
    "Apart from the numerical criteria, a good convergence is indicated by the linear trending in the plot of \"area vs slope\" as well as a constant steepness.\n",
    "\n",
    "Judging from the final resutls and the intermediate results(not included in this document), 1e6 - 4e6 is a reasonable range of total time of convergence\n",
    "\n",
    "\n",
    "\n",
    "#### note on code\n",
    "\n",
    "I assembled the code blocks in the first section to a WrapperRun function in order to perform change of parameters.\n",
    "It is the same code except that there are options in the interface of WrapperRun that allows me to assign value to some of the variables.\n",
    "\n",
    "### Plots included\n",
    "#### topography\n",
    "\n",
    "![](./stream_power_channels_results/Ksp1.0000e-05_uplift1.0000e-04/dxy2.0000e+02_total_time4.0000e+06_1_topography.png)\n",
    "\n",
    "#### channel profile\n",
    "\n",
    "![](./stream_power_channels_results/Ksp1.0000e-05_uplift1.0000e-04/dxy2.0000e+02_total_time4.0000e+06_4_channels.png)\n",
    "\n",
    "#### area vs slope\n",
    "\n",
    "![](./stream_power_channels_results/Ksp1.0000e-05_uplift1.0000e-04/dxy2.0000e+02_total_time4.0000e+06_2_slope_area.png)\n",
    "\n",
    "#### elevation distance\n",
    "![](./stream_power_channels_results/Ksp1.0000e-05_uplift1.0000e-04/dxy2.0000e+02_total_time5.0000e+05_3_elevation_distance.png)"
   ]
  },
  {
   "cell_type": "markdown",
   "metadata": {},
   "source": [
    "2. **Transient landscape responding to an increase in rock uplift. ** Use the base landscape and increase rock uplift uniformly by a factor of 4 to 0.0004 m/yr. Make sure you update the rock uplift rate (Code Block 16) and ensure that $tmax$ is 1e5 yrs and $dt$ is 500 yrs (Code Block 15). Run this until the maximum elevation in the grid is ~ 170 m and observe how the landscape gets to this elevation, i.e. plot intermediate steps. What patterns do you see in the supporting plots that illustrate this type of transient? Which patterns, if any, are diagnostic of a landscape response to uniform increase in rock uplift rate? (You may need to answer this after completing all of the questions.)"
   ]
  },
  {
   "cell_type": "markdown",
   "metadata": {},
   "source": [
    "### Answer to question 2\n",
    "\n",
    "I run the model with 1e5 interval until the maximum topography is higher that 140 m.\n",
    "A match up of time and maximu topography is here:\n",
    "\n",
    "Time: 0.1Ma, 0.2Ma, 0.3Ma\n",
    "\n",
    "Topography: 106.45 m, 137.50 m, 168.22 m\n",
    "\n",
    "As is shown in the patterns in the plots of topography, the position of the light color and dark color are relatively fixed.\n",
    "This indicates the high and low regions remain during the transient state of uplift.\n",
    "Thus, transient period is charasterized by the localized elevation in high regions relative to low regions.\n",
    "Therefore, the elevation difference between adajacent high and low regions increases, steepening the stream channels towards an reorganization.\n",
    "\n",
    "Meanwhile, the the reorganized channels are build up along the transient steps(channel profile plots).\n",
    "An ultimate static state where all the channels reimerge could be expected.\n",
    "\n",
    "A whole sets of plot is in \"stream_power_channels_results/transient_Ksp1.0000e-05_uplift4.0000e-04\"\n",
    "\n",
    "### Plots included\n",
    "\n",
    "#### topography\n",
    "\n",
    "![](./stream_power_channels_results/transient_Ksp1.0000e-05_uplift4.0000e-04/transient_total_time1.0000e+05_1_topography.png)\n",
    "\n",
    "![](./stream_power_channels_results/transient_Ksp1.0000e-05_uplift4.0000e-04/transient_total_time2.0000e+05_1_topography.png)\n",
    "\n",
    "![](./stream_power_channels_results/transient_Ksp1.0000e-05_uplift4.0000e-04/transient_total_time3.0000e+05_1_topography.png)\n",
    "\n",
    "#### channel profile\n",
    "\n",
    "![](./stream_power_channels_results/transient_Ksp1.0000e-05_uplift4.0000e-04/transient_total_time1.0000e+05_3_profile_map.png)\n",
    "\n",
    "![](./stream_power_channels_results/transient_Ksp1.0000e-05_uplift4.0000e-04/transient_total_time2.0000e+05_3_profile_map.png)\n",
    "\n",
    "![](./stream_power_channels_results/transient_Ksp1.0000e-05_uplift4.0000e-04/transient_total_time3.0000e+05_3_profile_map.png)\n",
    "\n",
    "#### slope vs area\n",
    "\n",
    "![](./stream_power_channels_results/transient_Ksp1.0000e-05_uplift4.0000e-04/transient_total_time1.0000e+05_4_area_slope.png)\n",
    "\n",
    "![](./stream_power_channels_results/transient_Ksp1.0000e-05_uplift4.0000e-04/transient_total_time2.0000e+05_4_area_slope.png)\n",
    "\n",
    "![](./stream_power_channels_results/transient_Ksp1.0000e-05_uplift4.0000e-04/transient_total_time3.0000e+05_4_area_slope.png)\n",
    "\n"
   ]
  },
  {
   "cell_type": "markdown",
   "metadata": {},
   "source": [
    "3. ** Steady-state landscape with increased rock uplift. ** Now run the landscape from question 2 until it reaches steady state. (I.e. run the time loop, Code Block 17, a bunch of times. You can increase $tmax$ and $dt$ to make this run faster.) Provide a plot that illustrates that the landscape is in steady state. What aspects of the landscape have changed in comparison with the base landscape from question 1?"
   ]
  },
  {
   "cell_type": "markdown",
   "metadata": {},
   "source": [
    "### Answer to question 3\n",
    "\n",
    "I run the model to 1.7Ma with a numerical criteria on convergence(i.e. relative change in maximum topography < 1e-5 in 1e5 yrs).\n",
    "\n",
    "From the slope vs area plot of the channels, there is a systematic increase in slope relative to area. \n",
    "The new linear trending suggests that a increase in uplift leads to steep channels while the drainage area varies little.\n",
    "This could a result of the systematic elevation in high region region to low region as discussed above, for this process will create a bigger difference in topography, thus leads to higher slope in the channel\n",
    "\n",
    "At the same time, the channel profile shows 2 of the 3 plotted channels essentially reimmerge at their previous position.\n",
    "This suggests the channel locations could be relatively stable during systemative increase in uplift rate.\n",
    "On the other hand, one channel(green) partially shift to an adjacent branch, which suggests that a reorganization of stream channel is possible as a result of change in uplift rate.\n",
    "\n",
    "Another observation results is that the curvature of the channel becomes more discontinous. \n",
    "In another word, the channel tends to take a sudden turn when the uplift rate is higher.\n",
    "This makes sense as the slope of the channel increases, thus there is more energy release in unit distance.\n",
    "\n",
    "### Plots included\n",
    "\n",
    "#### topography(New steady state: up, previous steady state: down)\n",
    "\n",
    "![](./stream_power_channels_results/transient_Ksp1.0000e-05_uplift4.0000e-04/transient_total_time1.7000e+06_1_topography.png)\n",
    "\n",
    "![](./stream_power_channels_results/Ksp1.0000e-05_uplift1.0000e-04/dxy2.0000e+02_total_time4.0000e+06_1_topography.png)\n",
    "\n",
    "#### channel profile(New steady state: up, previous steady state: down)\n",
    "\n",
    "![](./stream_power_channels_results/transient_Ksp1.0000e-05_uplift4.0000e-04/transient_total_time1.7000e+06_3_profile_map.png)\n",
    "\n",
    "![](./stream_power_channels_results/Ksp1.0000e-05_uplift1.0000e-04/dxy2.0000e+02_total_time4.0000e+06_4_channels.png)\n",
    "\n",
    "#### slope vs area(New steady state: up, previous steady state: down)\n",
    "\n",
    "![](./stream_power_channels_results/transient_Ksp1.0000e-05_uplift4.0000e-04/transient_total_time1.7000e+06_4_area_slope.png)\n",
    "\n",
    "![](./stream_power_channels_results/Ksp1.0000e-05_uplift1.0000e-04/dxy2.0000e+02_total_time4.0000e+06_5_channels_slope_area.png)"
   ]
  }
 ],
 "metadata": {
  "kernelspec": {
   "display_name": "Python 3",
   "language": "python",
   "name": "python3"
  },
  "language_info": {
   "codemirror_mode": {
    "name": "ipython",
    "version": 3
   },
   "file_extension": ".py",
   "mimetype": "text/x-python",
   "name": "python",
   "nbconvert_exporter": "python",
   "pygments_lexer": "ipython3",
   "version": "3.7.8"
  }
 },
 "nbformat": 4,
 "nbformat_minor": 4
}
